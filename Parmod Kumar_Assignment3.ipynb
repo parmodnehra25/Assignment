{
 "cells": [
  {
   "cell_type": "markdown",
   "id": "fca20ed6",
   "metadata": {},
   "source": [
    "1. Create a 5X2 integer array and Prints its attributes?"
   ]
  },
  {
   "cell_type": "code",
   "execution_count": 6,
   "id": "3fe70e59",
   "metadata": {},
   "outputs": [],
   "source": [
    "import numpy as np\n"
   ]
  },
  {
   "cell_type": "code",
   "execution_count": 16,
   "id": "627ece75",
   "metadata": {},
   "outputs": [
    {
     "name": "stdout",
     "output_type": "stream",
     "text": [
      "[[4 5]\n",
      " [3 5]\n",
      " [6 7]\n",
      " [7 6]\n",
      " [8 9]]\n",
      "(5, 2)\n",
      "2\n",
      "2\n"
     ]
    }
   ],
   "source": [
    "lst=[4,5,3,5,6,7,7,6,8,9]\n",
    "arr=np.array(lst,dtype=np.uint16)\n",
    "arr=arr.reshape(5,2)\n",
    "print(arr)\n",
    "print(arr.shape)\n",
    "print(arr.ndim)\n",
    "print(arr.itemsize)"
   ]
  },
  {
   "cell_type": "markdown",
   "id": "11d7c9f4",
   "metadata": {},
   "source": [
    "2. Create an array by adding the following two NumPy arrays.\n",
    "Next, modify the result array by calculating the square of each\n",
    "element."
   ]
  },
  {
   "cell_type": "code",
   "execution_count": 26,
   "id": "6c9918f4",
   "metadata": {},
   "outputs": [
    {
     "name": "stdout",
     "output_type": "stream",
     "text": [
      "addition of two arrays is \n",
      "\n",
      "[[20 39 33]\n",
      " [25 25 28]]\n",
      "Square Value of arr1 : \n",
      " [[ 400 1521 1089]\n",
      " [ 625  625  784]]\n"
     ]
    }
   ],
   "source": [
    "import numpy as np\n",
    "arrayOne = np.array([[5, 6, 9], [21 ,18, 27]])\n",
    "arrayTwo = np.array([[15 ,33, 24], [4 ,7, 1]])\n",
    "newarray=arrayOne+arrayTwo\n",
    "print(\"addition of two arrays is \\n\")\n",
    "print(newarray)\n",
    "\n",
    "print (\"Square Value of newarray : \\n\", np.square(newarray))"
   ]
  },
  {
   "cell_type": "markdown",
   "id": "11788cca",
   "metadata": {},
   "source": [
    "3.Find the length of each string element in the Numpy array"
   ]
  },
  {
   "cell_type": "code",
   "execution_count": 29,
   "id": "fadb7d59",
   "metadata": {},
   "outputs": [
    {
     "name": "stdout",
     "output_type": "stream",
     "text": [
      "['Ram' 'Shyam' 'Ghanshyam']\n",
      "[3 5 9]\n"
     ]
    }
   ],
   "source": [
    "import numpy as np\n",
    "\n",
    "array = np.array(['Ram','Shyam','Ghanshyam'])\n",
    "print(array)\n",
    "length_checker = np.vectorize(len)\n",
    "arr_len = length_checker(array)\n",
    "print(arr_len)"
   ]
  },
  {
   "cell_type": "markdown",
   "id": "50e60c64",
   "metadata": {},
   "source": [
    "4. Find Mean ,median and mode of a List of Numpy Array"
   ]
  },
  {
   "cell_type": "code",
   "execution_count": 44,
   "id": "ac2693a3",
   "metadata": {},
   "outputs": [
    {
     "name": "stdout",
     "output_type": "stream",
     "text": [
      "Mean of the array is= 6.0\n",
      "Median of the array is= 6.0\n",
      "Mode of the array is= ModeResult(mode=5, count=2)\n"
     ]
    }
   ],
   "source": [
    "import numpy as np\n",
    "from scipy import stats\n",
    "lst=[4,5,3,5,6,7,7,6,8,9]\n",
    "x= np.mean(lst)\n",
    "print(\"Mean of the array is=\",x)\n",
    "y=np.median(lst)\n",
    "print(\"Median of the array is=\",y)\n",
    "Z= stats.mode(lst)\n",
    "print(\"Mode of the array is=\",Z)"
   ]
  },
  {
   "cell_type": "markdown",
   "id": "174f1549",
   "metadata": {},
   "source": [
    "5.Calculate the Euclidean distance using NumPy"
   ]
  },
  {
   "cell_type": "code",
   "execution_count": 54,
   "id": "f83f54e0",
   "metadata": {
    "scrolled": true
   },
   "outputs": [
    {
     "name": "stdout",
     "output_type": "stream",
     "text": [
      "[5 6 7]\n",
      "[ 8  9 10]\n",
      "[9 9 9]\n",
      "27\n",
      "Euclidean distance is = 5.196152422706632\n"
     ]
    }
   ],
   "source": [
    "import numpy as np\n",
    "arrayOne = np.array([5, 6,7])\n",
    "arrayTwo = np.array([8 ,9,10])\n",
    "print(arrayOne)\n",
    "print(arrayTwo)\n",
    "square = np.square(arrayOne - arrayTwo)\n",
    "print(square)\n",
    "sum_square = np.sum(square)\n",
    "print(sum_square)\n",
    "distance = np.sqrt(sum_square)\n",
    "print(\"Euclidean distance is =\",distance)"
   ]
  },
  {
   "cell_type": "markdown",
   "id": "96f6ef99",
   "metadata": {},
   "source": [
    "6.COVID-19 Data Visualization using matplotlib in Python"
   ]
  },
  {
   "cell_type": "code",
   "execution_count": 59,
   "id": "5ea644ff",
   "metadata": {},
   "outputs": [
    {
     "ename": "ValueError",
     "evalue": "invalid literal for int() with base 10: 'Daily Confirmed'",
     "output_type": "error",
     "traceback": [
      "\u001b[1;31m---------------------------------------------------------------------------\u001b[0m",
      "\u001b[1;31mValueError\u001b[0m                                Traceback (most recent call last)",
      "Cell \u001b[1;32mIn[59], line 11\u001b[0m\n\u001b[0;32m      9\u001b[0m     \u001b[38;5;28;01mfor\u001b[39;00m row \u001b[38;5;129;01min\u001b[39;00m lines: \n\u001b[0;32m     10\u001b[0m         x\u001b[38;5;241m.\u001b[39mappend(row[\u001b[38;5;241m0\u001b[39m]) \n\u001b[1;32m---> 11\u001b[0m         y\u001b[38;5;241m.\u001b[39mappend(\u001b[38;5;28mint\u001b[39m(row[\u001b[38;5;241m1\u001b[39m])) \n\u001b[0;32m     13\u001b[0m plt\u001b[38;5;241m.\u001b[39mplot(x, y, color \u001b[38;5;241m=\u001b[39m \u001b[38;5;124m'\u001b[39m\u001b[38;5;124mg\u001b[39m\u001b[38;5;124m'\u001b[39m, linestyle \u001b[38;5;241m=\u001b[39m \u001b[38;5;124m'\u001b[39m\u001b[38;5;124mdashed\u001b[39m\u001b[38;5;124m'\u001b[39m, \n\u001b[0;32m     14\u001b[0m          marker \u001b[38;5;241m=\u001b[39m \u001b[38;5;124m'\u001b[39m\u001b[38;5;124mo\u001b[39m\u001b[38;5;124m'\u001b[39m,label \u001b[38;5;241m=\u001b[39m \u001b[38;5;124m\"\u001b[39m\u001b[38;5;124mCovid patient\u001b[39m\u001b[38;5;124m\"\u001b[39m) \n\u001b[0;32m     16\u001b[0m plt\u001b[38;5;241m.\u001b[39mxticks(rotation \u001b[38;5;241m=\u001b[39m \u001b[38;5;241m25\u001b[39m) \n",
      "\u001b[1;31mValueError\u001b[0m: invalid literal for int() with base 10: 'Daily Confirmed'"
     ]
    }
   ],
   "source": [
    "import matplotlib.pyplot as plt \n",
    "import csv \n",
    "  \n",
    "x = [] \n",
    "y = [] \n",
    "  \n",
    "with open('case_time_series.csv','r') as csvfile: \n",
    "    lines = csv.reader(csvfile) \n",
    "    for row in lines: \n",
    "        x.append(row[0]) \n",
    "        y.append(int(row[1])) \n",
    "  \n",
    "plt.plot(x, y, color = 'g', linestyle = 'dashed', \n",
    "         marker = 'o',label = \"Covid patient\") \n",
    "  \n",
    "plt.xticks(rotation = 25) \n",
    "plt.xlabel('Dates') \n",
    "plt.ylabel('TDaily Confirmed') \n",
    "plt.title('Covid patient', fontsize = 20) \n",
    "plt.grid() \n",
    "plt.legend() \n",
    "plt.show() "
   ]
  },
  {
   "cell_type": "code",
   "execution_count": null,
   "id": "c3888060",
   "metadata": {},
   "outputs": [],
   "source": []
  }
 ],
 "metadata": {
  "kernelspec": {
   "display_name": "Python 3 (ipykernel)",
   "language": "python",
   "name": "python3"
  },
  "language_info": {
   "codemirror_mode": {
    "name": "ipython",
    "version": 3
   },
   "file_extension": ".py",
   "mimetype": "text/x-python",
   "name": "python",
   "nbconvert_exporter": "python",
   "pygments_lexer": "ipython3",
   "version": "3.11.5"
  }
 },
 "nbformat": 4,
 "nbformat_minor": 5
}
