{
 "cells": [
  {
   "cell_type": "markdown",
   "id": "a37e9463",
   "metadata": {},
   "source": [
    "Write a Python program to sum all the items in a list"
   ]
  },
  {
   "cell_type": "code",
   "execution_count": null,
   "id": "a802f3c6",
   "metadata": {},
   "outputs": [],
   "source": [
    "def sum_list(my_list):\n",
    "    sum = 0\n",
    "    for x in my_list:\n",
    "        sum =sum+x\n",
    "    return sum\n",
    "\n",
    "# Example usage\n",
    "my_list = [10, 20, 30, 40, 50]\n",
    "print('The sum of the values in the list is:')\n",
    "print(sum_list(my_list))"
   ]
  },
  {
   "cell_type": "markdown",
   "id": "a5b1f259",
   "metadata": {},
   "source": [
    "Write a Python program to multiplies all the items in a list."
   ]
  },
  {
   "cell_type": "code",
   "execution_count": 28,
   "id": "6f72d655",
   "metadata": {},
   "outputs": [
    {
     "name": "stdout",
     "output_type": "stream",
     "text": [
      "The Product of the values in the list is:\n",
      "120\n"
     ]
    }
   ],
   "source": [
    "def multiply_list(my_list):\n",
    "    result = 1\n",
    "    for x in my_list:\n",
    "        result =result*x\n",
    "    return result\n",
    "\n",
    "# Example usage\n",
    "my_list = [1, 2, 3, 4, 5]\n",
    "print('The Product of the values in the list is:')\n",
    "print(multiply_list(my_list))"
   ]
  },
  {
   "cell_type": "markdown",
   "id": "1fcecea4",
   "metadata": {},
   "source": [
    "Write a Python program to get the largest number from a list."
   ]
  },
  {
   "cell_type": "code",
   "execution_count": 29,
   "id": "d0391fbc",
   "metadata": {},
   "outputs": [
    {
     "name": "stdout",
     "output_type": "stream",
     "text": [
      "57\n"
     ]
    }
   ],
   "source": [
    "def max_element(list):\n",
    "  \n",
    "  max = list[0]\n",
    "  \n",
    "  for i in range(1, len(list)):\n",
    "   \n",
    "    if list[i] > max:\n",
    "      \n",
    "      max = list[i]\n",
    "  \n",
    "  return max\n",
    "\n",
    "\n",
    "list = [15, 30, 40, 57]\n",
    "\n",
    "print(max_element(list))"
   ]
  },
  {
   "cell_type": "markdown",
   "id": "152c4827",
   "metadata": {},
   "source": [
    "Write a Python program to get the smallest number from a list."
   ]
  },
  {
   "cell_type": "code",
   "execution_count": 33,
   "id": "8aba32b2",
   "metadata": {},
   "outputs": [
    {
     "name": "stdout",
     "output_type": "stream",
     "text": [
      "15\n"
     ]
    }
   ],
   "source": [
    "def min_element(list):\n",
    "  \n",
    "  min = list[0]\n",
    "  \n",
    "  for i in range(1, len(list)):\n",
    "   \n",
    "    if list[i] < min:\n",
    "      \n",
    "      min = list[i]\n",
    "  \n",
    "  return min\n",
    "\n",
    "\n",
    "list = [15, 30, 40, 57]\n",
    "\n",
    "print(min_element(list))"
   ]
  },
  {
   "cell_type": "markdown",
   "id": "7d883ce9",
   "metadata": {},
   "source": [
    "Write a Python program to count the number of characters in a string."
   ]
  },
  {
   "cell_type": "code",
   "execution_count": 35,
   "id": "cd8afe9d",
   "metadata": {},
   "outputs": [
    {
     "name": "stdout",
     "output_type": "stream",
     "text": [
      "Count of all characters in google.com is :\n",
      " {'g': 2, 'o': 3, 'l': 1, 'e': 1, '.': 1, 'c': 1, 'm': 1}\n"
     ]
    }
   ],
   "source": [
    " test_str= 'google.com'\n",
    "  \n",
    "all_freq = {}\n",
    " \n",
    "for i in test_str:\n",
    "    if i in all_freq:\n",
    "        all_freq[i] += 1\n",
    "    else:\n",
    "        all_freq[i] = 1\n",
    " \n",
    "# printing result\n",
    "print(\"Count of all characters in google.com is :\\n \"\n",
    "      + str(all_freq))\n"
   ]
  },
  {
   "cell_type": "markdown",
   "id": "1e69149a",
   "metadata": {},
   "source": [
    "Write a Python function that takes a list of words and returns the length of the\n",
    "longest one."
   ]
  },
  {
   "cell_type": "code",
   "execution_count": 2,
   "id": "2dbbb752",
   "metadata": {},
   "outputs": [
    {
     "name": "stdout",
     "output_type": "stream",
     "text": [
      "7\n"
     ]
    }
   ],
   "source": [
    "def longest_word_length(words):\n",
    "  # initialize the maximum length to zero\n",
    "  max_length = 0\n",
    "  # loop through each word in the list\n",
    "  for word in words:\n",
    "    # get the length of the current word\n",
    "    word_length = len(word)\n",
    "    # if the length is greater than the maximum length, update the maximum length\n",
    "    if word_length > max_length:\n",
    "      max_length = word_length\n",
    "  # return the maximum length\n",
    "  return max_length\n",
    "words = [\"India\", \"is\",\"a\", \"vast\", \"country\"]\n",
    "print(longest_word_length(words))"
   ]
  },
  {
   "cell_type": "markdown",
   "id": "b387599c",
   "metadata": {},
   "source": [
    "Write a Python program to sort (ascending and descending) a dictionary by\n",
    "value."
   ]
  },
  {
   "cell_type": "code",
   "execution_count": 4,
   "id": "a70d73cf",
   "metadata": {},
   "outputs": [
    {
     "name": "stdout",
     "output_type": "stream",
     "text": [
      "Original dictionary: {'a': 10, 'b': 31, 'c': 41, 'd': 67}\n",
      "Dictionary sorted by value (ascending): {'a': 10, 'b': 31, 'c': 41, 'd': 67}\n",
      "Dictionary sorted by value (descending): {'d': 67, 'c': 41, 'b': 31, 'a': 10}\n"
     ]
    }
   ],
   "source": [
    "d = {\"a\": 10, \"b\": 31, \"c\": 41, \"d\": 67}\n",
    "\n",
    "# Define a function to sort the dictionary by value\n",
    "def sort_dict_by_value(d, reverse=False):\n",
    "    # Convert the dictionary into a list of tuples\n",
    "    items = list(d.items())\n",
    "    # Sort the list by the second element of each tuple (the value)\n",
    "    items.sort(key=lambda x: x[1], reverse=reverse)\n",
    "    # Return a new dictionary with the sorted items\n",
    "    return dict(items)\n",
    "\n",
    "# Print the original dictionary\n",
    "print(\"Original dictionary:\", d)\n",
    "\n",
    "# Sort the dictionary by value in ascending order\n",
    "d_ascending = sort_dict_by_value(d)\n",
    "print(\"Dictionary sorted by value (ascending):\", d_ascending)\n",
    "\n",
    "# Sort the dictionary by value in descending order\n",
    "d_descending = sort_dict_by_value(d, reverse=True)\n",
    "print(\"Dictionary sorted by value (descending):\", d_descending)"
   ]
  },
  {
   "cell_type": "markdown",
   "id": "73d595a6",
   "metadata": {},
   "source": [
    "Write a Python program to add key to a dictionary."
   ]
  },
  {
   "cell_type": "code",
   "execution_count": 8,
   "id": "82692c96",
   "metadata": {},
   "outputs": [
    {
     "name": "stdout",
     "output_type": "stream",
     "text": [
      "{0: 'Ram', 1: 'Shyam', 3: 'Ghanshyam', 2: 'Nitin'}\n"
     ]
    }
   ],
   "source": [
    "x= {0:'Ram',1:'Shyam',3:'Ghanshyam'}\n",
    "\n",
    "#update the dictionary using {2:'Nitin'}\n",
    "x.update({2:'Nitin'})\n",
    "print(x)"
   ]
  },
  {
   "cell_type": "markdown",
   "id": "1a7addbe",
   "metadata": {},
   "source": [
    "Write a Python program to get a list, sorted in increasing order by the last\n",
    "element in each tuple from a given list of non-empty tuples."
   ]
  },
  {
   "cell_type": "code",
   "execution_count": 16,
   "id": "7cdf1176",
   "metadata": {},
   "outputs": [
    {
     "name": "stdout",
     "output_type": "stream",
     "text": [
      "[(2, 1), (1, 2), (2, 3), (4, 4), (2, 5)]\n"
     ]
    }
   ],
   "source": [
    "# Define a function called 'last' that takes a single argument 'n' and returns the last element of 'n'\n",
    "def last(n):\n",
    "    return n[+1]\n",
    "\n",
    "# Define a function called 'sort_list_last' that takes a list of tuples 'tuples' as input\n",
    "def sort_list_last(tuples):\n",
    "    # Sort the list of tuples 'tuples' using the 'last' function as the key for sorting\n",
    "    return sorted(tuples, key=last)\n",
    "\n",
    "# Call the 'sort_list_last' function with a list of tuples as input and print the sorted result\n",
    "print(sort_list_last([(2, 5), (1, 2), (4, 4), (2, 3), (2, 1)]))"
   ]
  },
  {
   "cell_type": "markdown",
   "id": "bed09ffa",
   "metadata": {},
   "source": [
    "Object oriented Concepts"
   ]
  },
  {
   "cell_type": "markdown",
   "id": "53207c76",
   "metadata": {},
   "source": [
    "1. Write a Python program to create a class representing a Circle. Include\n",
    "methods to calculate its area and perimeter."
   ]
  },
  {
   "cell_type": "code",
   "execution_count": 21,
   "id": "d6219389",
   "metadata": {},
   "outputs": [
    {
     "name": "stdout",
     "output_type": "stream",
     "text": [
      "Enter the radius values in :6\n",
      "the area of circle is : 113.09733552923255\n",
      "the area of circle is : 37.69911184307752\n"
     ]
    }
   ],
   "source": [
    "import math\n",
    "radius= float(input(\"Enter the radius values in :\"))\n",
    "#calculate the area of circle\n",
    "area= math.pi*radius**2\n",
    "#calculate the perimeter of circle\n",
    "perimeter= 2*math.pi*radius\n",
    "print(\"the area of circle is :\",area)\n",
    "print(\"the area of circle is :\",perimeter)"
   ]
  },
  {
   "cell_type": "markdown",
   "id": "6b5685b8",
   "metadata": {},
   "source": [
    "Write a Python program to create a person class. Include attributes like\n",
    "name, country and date of birth. Implement a method to determine the\n",
    "person's age."
   ]
  },
  {
   "cell_type": "code",
   "execution_count": 32,
   "id": "d6c4154e",
   "metadata": {},
   "outputs": [
    {
     "name": "stdout",
     "output_type": "stream",
     "text": [
      "name: Nitin\n",
      "country: India\n",
      "age: 13\n"
     ]
    }
   ],
   "source": [
    "from datetime import date\n",
    "class Person:\n",
    "    def __init__(self,name,country,date_of_birth):\n",
    "        self.name = name\n",
    "        self.country = country\n",
    "        self.date_of_birth= date_of_birth \n",
    "    def calculate_age(self):\n",
    "        today=date.today()\n",
    "        age= today.year-self.date_of_birth.year\n",
    "        if today<date(today.year,self.date_of_birth.month,self.date_of_birth.day):\n",
    "            age -= 1\n",
    "        return age\n",
    "person = Person(\"Nitin\", \"India\", date(2010, 11, 13))\n",
    "\n",
    "print(\"name:\",person.name)\n",
    "print(\"country:\",person.country)\n",
    "print(\"age:\",person.calculate_age())\n",
    "    "
   ]
  },
  {
   "cell_type": "code",
   "execution_count": null,
   "id": "98106335",
   "metadata": {},
   "outputs": [],
   "source": []
  }
 ],
 "metadata": {
  "kernelspec": {
   "display_name": "Python 3 (ipykernel)",
   "language": "python",
   "name": "python3"
  },
  "language_info": {
   "codemirror_mode": {
    "name": "ipython",
    "version": 3
   },
   "file_extension": ".py",
   "mimetype": "text/x-python",
   "name": "python",
   "nbconvert_exporter": "python",
   "pygments_lexer": "ipython3",
   "version": "3.11.5"
  }
 },
 "nbformat": 4,
 "nbformat_minor": 5
}
